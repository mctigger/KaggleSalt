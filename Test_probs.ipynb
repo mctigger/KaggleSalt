{
 "cells": [
  {
   "cell_type": "code",
   "execution_count": 1,
   "metadata": {},
   "outputs": [
    {
     "name": "stderr",
     "output_type": "stream",
     "text": [
      "  0%|          | 0/572 [00:00<?, ?it/s]                                                                                   "
     ]
    },
    {
     "name": "stdout",
     "output_type": "stream",
     "text": [
      "Loading existing cv-split!\n"
     ]
    },
    {
     "name": "stderr",
     "output_type": "stream",
     "text": [
      "                                       \r"
     ]
    },
    {
     "name": "stdout",
     "output_type": "stream",
     "text": [
      "0.8735774 [tensor(0.8766, device='cuda:0'), tensor(0.8654, device='cuda:0'), tensor(0.8691, device='cuda:0'), tensor(0.8715, device='cuda:0'), tensor(0.8585, device='cuda:0'), tensor(0.8898, device='cuda:0'), tensor(0.8842, device='cuda:0')]\n"
     ]
    }
   ],
   "source": [
    "import numpy as np\n",
    "from tqdm import tqdm\n",
    "import torch\n",
    "\n",
    "from ela import generator\n",
    "\n",
    "import utils\n",
    "import metrics\n",
    "import datasets\n",
    "\n",
    "\n",
    "def ensemble_mean(p, threshold=0.5):\n",
    "    return np.mean(np.mean(p, axis=0) > threshold, axis=0)\n",
    "\n",
    "\n",
    "def ensemble_vote(p):\n",
    "    return np.mean((p > 0.5).reshape(-1, *p.shape[2:]), axis=0)\n",
    "\n",
    "\n",
    "def ensemble_mean_mean(p):\n",
    "    return np.mean(sigmoid(p.reshape(-1, *p.shape[2:])), axis=0)\n",
    "\n",
    "\n",
    "def sigmoid(x):\n",
    "    return 1 / (1 + np.exp(-x))\n",
    "\n",
    "\n",
    "experiments = [\n",
    "    'nopoolrefinenet_dpn92_dual_hypercolumn_poly_lr_aux_data_pseudo_labels',\n",
    "]\n",
    "\n",
    "test_predictions_experiment = []\n",
    "\n",
    "for name in experiments:\n",
    "    test_predictions = utils.TestPredictions('{}'.format(name), mode='val')\n",
    "    test_predictions_experiment.append(test_predictions.load_raw())\n",
    "\n",
    "train_samples = utils.get_train_samples()\n",
    "\n",
    "\n",
    "transforms = generator.TransformationsGenerator([])\n",
    "dataset = datasets.AnalysisDataset(train_samples, './data/train', transforms, utils.TestPredictions('{}'.format(name), mode='val').load())\n",
    "\n",
    "split_map = []\n",
    "for train, val in utils.mask_stratified_k_fold(7):\n",
    "    predictions = []\n",
    "    masks = []\n",
    "    with tqdm(total=len(val), leave=False) as pbar:\n",
    "        for id in val:\n",
    "            _, mask, _ = dataset.get_by_id(id)\n",
    "            test_prediction = np.concatenate([predictions[id] for predictions in test_predictions_experiment], axis=0)\n",
    "            prediction = torch.FloatTensor(test_prediction)\n",
    "            mask = torch.FloatTensor(mask)\n",
    "\n",
    "            predictions.append(prediction)\n",
    "            masks.append(mask)\n",
    "\n",
    "    predictions = torch.stack(predictions, dim=0).cuda()\n",
    "    masks = torch.stack(masks, dim=0).cuda()\n",
    "\n",
    "    predictions = torch.sigmoid(predictions)\n",
    "    predictions = torch.mean(predictions, dim=1)\n",
    "    predictions = (predictions > 0.5).float()\n",
    "\n",
    "    map = metrics.mAP(predictions, masks)\n",
    "    split_map.append(map)\n",
    "\n",
    "print(np.mean(split_map), split_map)"
   ]
  },
  {
   "cell_type": "code",
   "execution_count": null,
   "metadata": {},
   "outputs": [],
   "source": []
  }
 ],
 "metadata": {
  "kernelspec": {
   "display_name": "Python 3",
   "language": "python",
   "name": "python3"
  },
  "language_info": {
   "codemirror_mode": {
    "name": "ipython",
    "version": 3
   },
   "file_extension": ".py",
   "mimetype": "text/x-python",
   "name": "python",
   "nbconvert_exporter": "python",
   "pygments_lexer": "ipython3",
   "version": "3.5.2"
  }
 },
 "nbformat": 4,
 "nbformat_minor": 2
}
