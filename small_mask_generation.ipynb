{
 "cells": [
  {
   "cell_type": "code",
   "execution_count": 1,
   "metadata": {},
   "outputs": [],
   "source": [
    "%load_ext autoreload\n",
    "%autoreload 2\n",
    "%matplotlib inline\n",
    "\n",
    "import sys\n",
    "sys.path.append('/input')\n",
    "import os\n",
    "\n",
    "import numpy as np\n",
    "import pandas as pd\n",
    "from sklearn.externals import joblib\n",
    "from tqdm import tqdm_notebook as tqdm\n",
    "import matplotlib.pyplot as plt\n",
    "\n",
    "from utils import plot_list, load_image, save_image, resize_image, get_cut_coordinates\n",
    "\n",
    "METADATA_FILEPATH = '/input/metadata.csv'\n",
    "IMG_DIR = '/output/auxiliary_data'\n",
    "IMG_DIR_MASKS =os.path.join(IMG_DIR,'masks')\n",
    "AUXILIARY_METADATA_FILEPATH = '/output/auxiliary_metadata.csv'"
   ]
  },
  {
   "cell_type": "code",
   "execution_count": 2,
   "metadata": {},
   "outputs": [
    {
     "data": {
      "text/html": [
       "<div>\n",
       "<style scoped>\n",
       "    .dataframe tbody tr th:only-of-type {\n",
       "        vertical-align: middle;\n",
       "    }\n",
       "\n",
       "    .dataframe tbody tr th {\n",
       "        vertical-align: top;\n",
       "    }\n",
       "\n",
       "    .dataframe thead th {\n",
       "        text-align: right;\n",
       "    }\n",
       "</style>\n",
       "<table border=\"1\" class=\"dataframe\">\n",
       "  <thead>\n",
       "    <tr style=\"text-align: right;\">\n",
       "      <th></th>\n",
       "      <th>file_path_image</th>\n",
       "      <th>file_path_mask</th>\n",
       "      <th>id</th>\n",
       "      <th>is_train</th>\n",
       "      <th>z</th>\n",
       "    </tr>\n",
       "  </thead>\n",
       "  <tbody>\n",
       "    <tr>\n",
       "      <th>0</th>\n",
       "      <td>/public/challenges/kaggle-salt-identification/...</td>\n",
       "      <td>/public/challenges/kaggle-salt-identification/...</td>\n",
       "      <td>bd20d18369</td>\n",
       "      <td>1</td>\n",
       "      <td>513</td>\n",
       "    </tr>\n",
       "    <tr>\n",
       "      <th>1</th>\n",
       "      <td>/public/challenges/kaggle-salt-identification/...</td>\n",
       "      <td>/public/challenges/kaggle-salt-identification/...</td>\n",
       "      <td>bcae7b57ec</td>\n",
       "      <td>1</td>\n",
       "      <td>291</td>\n",
       "    </tr>\n",
       "    <tr>\n",
       "      <th>2</th>\n",
       "      <td>/public/challenges/kaggle-salt-identification/...</td>\n",
       "      <td>/public/challenges/kaggle-salt-identification/...</td>\n",
       "      <td>5aee63c515</td>\n",
       "      <td>1</td>\n",
       "      <td>611</td>\n",
       "    </tr>\n",
       "    <tr>\n",
       "      <th>3</th>\n",
       "      <td>/public/challenges/kaggle-salt-identification/...</td>\n",
       "      <td>/public/challenges/kaggle-salt-identification/...</td>\n",
       "      <td>e560423302</td>\n",
       "      <td>1</td>\n",
       "      <td>585</td>\n",
       "    </tr>\n",
       "    <tr>\n",
       "      <th>4</th>\n",
       "      <td>/public/challenges/kaggle-salt-identification/...</td>\n",
       "      <td>/public/challenges/kaggle-salt-identification/...</td>\n",
       "      <td>a21ae8cb6b</td>\n",
       "      <td>1</td>\n",
       "      <td>798</td>\n",
       "    </tr>\n",
       "  </tbody>\n",
       "</table>\n",
       "</div>"
      ],
      "text/plain": [
       "                                     file_path_image  \\\n",
       "0  /public/challenges/kaggle-salt-identification/...   \n",
       "1  /public/challenges/kaggle-salt-identification/...   \n",
       "2  /public/challenges/kaggle-salt-identification/...   \n",
       "3  /public/challenges/kaggle-salt-identification/...   \n",
       "4  /public/challenges/kaggle-salt-identification/...   \n",
       "\n",
       "                                      file_path_mask          id  is_train  \\\n",
       "0  /public/challenges/kaggle-salt-identification/...  bd20d18369         1   \n",
       "1  /public/challenges/kaggle-salt-identification/...  bcae7b57ec         1   \n",
       "2  /public/challenges/kaggle-salt-identification/...  5aee63c515         1   \n",
       "3  /public/challenges/kaggle-salt-identification/...  e560423302         1   \n",
       "4  /public/challenges/kaggle-salt-identification/...  a21ae8cb6b         1   \n",
       "\n",
       "     z  \n",
       "0  513  \n",
       "1  291  \n",
       "2  611  \n",
       "3  585  \n",
       "4  798  "
      ]
     },
     "execution_count": 2,
     "metadata": {},
     "output_type": "execute_result"
    }
   ],
   "source": [
    "metadata = pd.read_csv(METADATA_FILEPATH)\n",
    "metadata_train = metadata[metadata['is_train']==1]\n",
    "metadata_train.head()"
   ]
  },
  {
   "cell_type": "markdown",
   "metadata": {},
   "source": [
    "# Filter larger masks"
   ]
  },
  {
   "cell_type": "code",
   "execution_count": 3,
   "metadata": {},
   "outputs": [
    {
     "data": {
      "application/vnd.jupyter.widget-view+json": {
       "model_id": "c4f28a744252439bbd456b785fcfda96",
       "version_major": 2,
       "version_minor": 0
      },
      "text/plain": [
       "HBox(children=(IntProgress(value=0, max=4000), HTML(value='')))"
      ]
     },
     "metadata": {},
     "output_type": "display_data"
    },
    {
     "name": "stdout",
     "output_type": "stream",
     "text": [
      "\n"
     ]
    },
    {
     "name": "stderr",
     "output_type": "stream",
     "text": [
      "/usr/local/share/jupyter/kernels/neptune-kernel/neptunekernel.py:6: SettingWithCopyWarning: \n",
      "A value is trying to be set on a copy of a slice from a DataFrame.\n",
      "Try using .loc[row_indexer,col_indexer] = value instead\n",
      "\n",
      "See the caveats in the documentation: http://pandas.pydata.org/pandas-docs/stable/indexing.html#indexing-view-versus-copy\n",
      "  # you may not use this file except in compliance with the License.\n"
     ]
    },
    {
     "data": {
      "text/html": [
       "<div>\n",
       "<style scoped>\n",
       "    .dataframe tbody tr th:only-of-type {\n",
       "        vertical-align: middle;\n",
       "    }\n",
       "\n",
       "    .dataframe tbody tr th {\n",
       "        vertical-align: top;\n",
       "    }\n",
       "\n",
       "    .dataframe thead th {\n",
       "        text-align: right;\n",
       "    }\n",
       "</style>\n",
       "<table border=\"1\" class=\"dataframe\">\n",
       "  <thead>\n",
       "    <tr style=\"text-align: right;\">\n",
       "      <th></th>\n",
       "      <th>file_path_image</th>\n",
       "      <th>file_path_mask</th>\n",
       "      <th>id</th>\n",
       "      <th>is_train</th>\n",
       "      <th>z</th>\n",
       "      <th>size</th>\n",
       "    </tr>\n",
       "  </thead>\n",
       "  <tbody>\n",
       "    <tr>\n",
       "      <th>0</th>\n",
       "      <td>/public/challenges/kaggle-salt-identification/...</td>\n",
       "      <td>/public/challenges/kaggle-salt-identification/...</td>\n",
       "      <td>bd20d18369</td>\n",
       "      <td>1</td>\n",
       "      <td>513</td>\n",
       "      <td>2539</td>\n",
       "    </tr>\n",
       "    <tr>\n",
       "      <th>2</th>\n",
       "      <td>/public/challenges/kaggle-salt-identification/...</td>\n",
       "      <td>/public/challenges/kaggle-salt-identification/...</td>\n",
       "      <td>5aee63c515</td>\n",
       "      <td>1</td>\n",
       "      <td>611</td>\n",
       "      <td>1953</td>\n",
       "    </tr>\n",
       "    <tr>\n",
       "      <th>3</th>\n",
       "      <td>/public/challenges/kaggle-salt-identification/...</td>\n",
       "      <td>/public/challenges/kaggle-salt-identification/...</td>\n",
       "      <td>e560423302</td>\n",
       "      <td>1</td>\n",
       "      <td>585</td>\n",
       "      <td>3899</td>\n",
       "    </tr>\n",
       "    <tr>\n",
       "      <th>4</th>\n",
       "      <td>/public/challenges/kaggle-salt-identification/...</td>\n",
       "      <td>/public/challenges/kaggle-salt-identification/...</td>\n",
       "      <td>a21ae8cb6b</td>\n",
       "      <td>1</td>\n",
       "      <td>798</td>\n",
       "      <td>5127</td>\n",
       "    </tr>\n",
       "    <tr>\n",
       "      <th>5</th>\n",
       "      <td>/public/challenges/kaggle-salt-identification/...</td>\n",
       "      <td>/public/challenges/kaggle-salt-identification/...</td>\n",
       "      <td>eaefc56247</td>\n",
       "      <td>1</td>\n",
       "      <td>455</td>\n",
       "      <td>603</td>\n",
       "    </tr>\n",
       "  </tbody>\n",
       "</table>\n",
       "</div>"
      ],
      "text/plain": [
       "                                     file_path_image  \\\n",
       "0  /public/challenges/kaggle-salt-identification/...   \n",
       "2  /public/challenges/kaggle-salt-identification/...   \n",
       "3  /public/challenges/kaggle-salt-identification/...   \n",
       "4  /public/challenges/kaggle-salt-identification/...   \n",
       "5  /public/challenges/kaggle-salt-identification/...   \n",
       "\n",
       "                                      file_path_mask          id  is_train  \\\n",
       "0  /public/challenges/kaggle-salt-identification/...  bd20d18369         1   \n",
       "2  /public/challenges/kaggle-salt-identification/...  5aee63c515         1   \n",
       "3  /public/challenges/kaggle-salt-identification/...  e560423302         1   \n",
       "4  /public/challenges/kaggle-salt-identification/...  a21ae8cb6b         1   \n",
       "5  /public/challenges/kaggle-salt-identification/...  eaefc56247         1   \n",
       "\n",
       "     z  size  \n",
       "0  513  2539  \n",
       "2  611  1953  \n",
       "3  585  3899  \n",
       "4  798  5127  \n",
       "5  455   603  "
      ]
     },
     "execution_count": 3,
     "metadata": {},
     "output_type": "execute_result"
    }
   ],
   "source": [
    "sizes = []\n",
    "for file_path in tqdm(metadata_train.file_path_mask):\n",
    "    mask = load_image(file_path, is_mask=True)\n",
    "    sizes.append(mask.sum())\n",
    "    \n",
    "metadata_train['size'] = sizes\n",
    "\n",
    "metadata_large_masks = metadata_train[metadata_train['size'].between(300,8000)]\n",
    "metadata_large_masks.head()"
   ]
  },
  {
   "cell_type": "markdown",
   "metadata": {},
   "source": [
    "# Explore cut results"
   ]
  },
  {
   "cell_type": "code",
   "execution_count": 6,
   "metadata": {},
   "outputs": [
    {
     "name": "stderr",
     "output_type": "stream",
     "text": [
      "/usr/local/lib/python3.6/dist-packages/skimage/transform/_warps.py:105: UserWarning: The default mode, 'constant', will be changed to 'reflect' in skimage 0.15.\n",
      "  warn(\"The default mode, 'constant', will be changed to 'reflect' in \"\n",
      "/usr/local/lib/python3.6/dist-packages/skimage/transform/_warps.py:110: UserWarning: Anti-aliasing will be enabled by default in skimage 0.15 to avoid aliasing artifacts when down-sampling images.\n",
      "  warn(\"Anti-aliasing will be enabled by default in skimage 0.15 to \"\n"
     ]
    },
    {
     "data": {
      "image/png": "[encoded data removed]",
      "text/plain": [
       "<Figure size 1152x864 with 4 Axes>"
      ]
     },
     "metadata": {},
     "output_type": "display_data"
    }
   ],
   "source": [
    "def present_cut(idx):\n",
    "    row = metadata_large_masks.iloc[idx]\n",
    "    image = load_image(row.file_path_image, is_mask=False)\n",
    "    mask = load_image(row.file_path_mask, is_mask=True)\n",
    "    (x1,x2),(y1,y2), was_cropped = get_cut_coordinates(mask,step=4, min_size=50, max_size=300)\n",
    "    if was_cropped:\n",
    "        synthetic_mask = resize_image(mask[x1:x2,y1:y2], (101,101),is_mask=True)\n",
    "        synthetic_image = resize_image(image[x1:x2,y1:y2], (101,101))\n",
    "        plot_list(images=[image, synthetic_image], labels=[mask, synthetic_mask])\n",
    "        \n",
    "present_cut(idx=18)"
   ]
  },
  {
   "cell_type": "markdown",
   "metadata": {},
   "source": [
    "# Prepare synthetic data"
   ]
  },
  {
   "cell_type": "code",
   "execution_count": 7,
   "metadata": {},
   "outputs": [],
   "source": [
    "!mkdir /output/auxiliary_data\n",
    "!mkdir /output/auxiliary_data/masks /output/auxiliary_data/images"
   ]
  },
  {
   "cell_type": "code",
   "execution_count": 8,
   "metadata": {},
   "outputs": [
    {
     "data": {
      "application/vnd.jupyter.widget-view+json": {
       "model_id": "5ee794ed57a244f18db0208a873ab5fc",
       "version_major": 2,
       "version_minor": 0
      },
      "text/plain": [
       "HBox(children=(IntProgress(value=1, bar_style='info', max=1), HTML(value='')))"
      ]
     },
     "metadata": {},
     "output_type": "display_data"
    },
    {
     "name": "stderr",
     "output_type": "stream",
     "text": [
      "/usr/local/lib/python3.6/dist-packages/skimage/transform/_warps.py:105: UserWarning: The default mode, 'constant', will be changed to 'reflect' in skimage 0.15.\n",
      "  warn(\"The default mode, 'constant', will be changed to 'reflect' in \"\n",
      "/usr/local/lib/python3.6/dist-packages/skimage/transform/_warps.py:110: UserWarning: Anti-aliasing will be enabled by default in skimage 0.15 to avoid aliasing artifacts when down-sampling images.\n",
      "  warn(\"Anti-aliasing will be enabled by default in skimage 0.15 to \"\n"
     ]
    },
    {
     "name": "stdout",
     "output_type": "stream",
     "text": [
      "\n"
     ]
    }
   ],
   "source": [
    "file_path_images,file_path_masks,ids, zs = [],[],[],[]\n",
    "for _, row in tqdm(metadata_large_masks.iterrows()):\n",
    "    image = load_image(row.file_path_image, is_mask=False)\n",
    "    mask = load_image(row.file_path_mask, is_mask=True)\n",
    "    (x1,x2),(y1,y2), was_cropped = get_cut_coordinates(mask,step=4, min_size=50, max_size=300)\n",
    "    if was_cropped:\n",
    "        synthetic_mask = resize_image(mask[x1:x2,y1:y2], (101,101),is_mask=True).astype(np.uint8)\n",
    "        synthetic_image = (resize_image(image[x1:x2,y1:y2], (101,101))*255.).astype(np.uint8)\n",
    "        idx = row.id\n",
    "        \n",
    "        file_path_image=os.path.join(IMG_DIR,'images','{}.png'.format(idx))\n",
    "        file_path_mask=os.path.join(IMG_DIR,'masks','{}.png'.format(idx))\n",
    "        save_image(synthetic_image, file_path_image)\n",
    "        save_image(synthetic_mask, file_path_mask)\n",
    "        test=load_image(file_path_mask)\n",
    "    \n",
    "        file_path_images.append(file_path_image)\n",
    "        file_path_masks.append(file_path_mask)\n",
    "        ids.append(idx)\n",
    "        zs.append(row.z)"
   ]
  },
  {
   "cell_type": "code",
   "execution_count": 9,
   "metadata": {},
   "outputs": [],
   "source": [
    "metadata_small_masks = pd.DataFrame({'file_path_image':file_path_images,\n",
    "                                     'file_path_mask':file_path_masks,\n",
    "                                     'id':ids,\n",
    "                                     'z':zs\n",
    "                                    })\n",
    "metadata_small_masks['is_train']=1"
   ]
  },
  {
   "cell_type": "code",
   "execution_count": 10,
   "metadata": {},
   "outputs": [
    {
     "data": {
      "text/plain": [
       "(1488, 5)"
      ]
     },
     "metadata": {},
     "output_type": "display_data"
    },
    {
     "data": {
      "text/html": [
       "<div>\n",
       "<style scoped>\n",
       "    .dataframe tbody tr th:only-of-type {\n",
       "        vertical-align: middle;\n",
       "    }\n",
       "\n",
       "    .dataframe tbody tr th {\n",
       "        vertical-align: top;\n",
       "    }\n",
       "\n",
       "    .dataframe thead th {\n",
       "        text-align: right;\n",
       "    }\n",
       "</style>\n",
       "<table border=\"1\" class=\"dataframe\">\n",
       "  <thead>\n",
       "    <tr style=\"text-align: right;\">\n",
       "      <th></th>\n",
       "      <th>file_path_image</th>\n",
       "      <th>file_path_mask</th>\n",
       "      <th>id</th>\n",
       "      <th>z</th>\n",
       "      <th>is_train</th>\n",
       "    </tr>\n",
       "  </thead>\n",
       "  <tbody>\n",
       "    <tr>\n",
       "      <th>0</th>\n",
       "      <td>/output/auxiliary_data/images/bd20d18369.png</td>\n",
       "      <td>/output/auxiliary_data/masks/bd20d18369.png</td>\n",
       "      <td>bd20d18369</td>\n",
       "      <td>513</td>\n",
       "      <td>1</td>\n",
       "    </tr>\n",
       "    <tr>\n",
       "      <th>1</th>\n",
       "      <td>/output/auxiliary_data/images/5aee63c515.png</td>\n",
       "      <td>/output/auxiliary_data/masks/5aee63c515.png</td>\n",
       "      <td>5aee63c515</td>\n",
       "      <td>611</td>\n",
       "      <td>1</td>\n",
       "    </tr>\n",
       "    <tr>\n",
       "      <th>2</th>\n",
       "      <td>/output/auxiliary_data/images/e560423302.png</td>\n",
       "      <td>/output/auxiliary_data/masks/e560423302.png</td>\n",
       "      <td>e560423302</td>\n",
       "      <td>585</td>\n",
       "      <td>1</td>\n",
       "    </tr>\n",
       "    <tr>\n",
       "      <th>3</th>\n",
       "      <td>/output/auxiliary_data/images/a21ae8cb6b.png</td>\n",
       "      <td>/output/auxiliary_data/masks/a21ae8cb6b.png</td>\n",
       "      <td>a21ae8cb6b</td>\n",
       "      <td>798</td>\n",
       "      <td>1</td>\n",
       "    </tr>\n",
       "    <tr>\n",
       "      <th>4</th>\n",
       "      <td>/output/auxiliary_data/images/eaefc56247.png</td>\n",
       "      <td>/output/auxiliary_data/masks/eaefc56247.png</td>\n",
       "      <td>eaefc56247</td>\n",
       "      <td>455</td>\n",
       "      <td>1</td>\n",
       "    </tr>\n",
       "  </tbody>\n",
       "</table>\n",
       "</div>"
      ],
      "text/plain": [
       "                                file_path_image  \\\n",
       "0  /output/auxiliary_data/images/bd20d18369.png   \n",
       "1  /output/auxiliary_data/images/5aee63c515.png   \n",
       "2  /output/auxiliary_data/images/e560423302.png   \n",
       "3  /output/auxiliary_data/images/a21ae8cb6b.png   \n",
       "4  /output/auxiliary_data/images/eaefc56247.png   \n",
       "\n",
       "                                file_path_mask          id    z  is_train  \n",
       "0  /output/auxiliary_data/masks/bd20d18369.png  bd20d18369  513         1  \n",
       "1  /output/auxiliary_data/masks/5aee63c515.png  5aee63c515  611         1  \n",
       "2  /output/auxiliary_data/masks/e560423302.png  e560423302  585         1  \n",
       "3  /output/auxiliary_data/masks/a21ae8cb6b.png  a21ae8cb6b  798         1  \n",
       "4  /output/auxiliary_data/masks/eaefc56247.png  eaefc56247  455         1  "
      ]
     },
     "execution_count": 10,
     "metadata": {},
     "output_type": "execute_result"
    }
   ],
   "source": [
    "display(metadata_small_masks.shape)\n",
    "metadata_small_masks.head()"
   ]
  },
  {
   "cell_type": "code",
   "execution_count": 11,
   "metadata": {},
   "outputs": [],
   "source": [
    "metadata_small_masks.to_csv(AUXILIARY_METADATA_FILEPATH)"
   ]
  },
  {
   "cell_type": "markdown",
   "metadata": {},
   "source": [
    "# How to download auxiliary data\n",
    "\n",
    "- Click on `Files` tab on the left  \n",
    "\n",
    "- Click on `SAL` and `uploads`\n",
    "\n",
    "- Download `auxiliary_data.zip`\n",
    "\n",
    "- Train new model with auxiliary data!"
   ]
  },
  {
   "cell_type": "code",
   "execution_count": null,
   "metadata": {},
   "outputs": [],
   "source": []
  }
 ],
 "metadata": {
  "kernelspec": {
   "display_name": "Python [conda env:KaggleQuickDraw]",
   "language": "python",
   "name": "conda-env-KaggleQuickDraw-py"
  },
  "language_info": {
   "codemirror_mode": {
    "name": "ipython",
    "version": 3
   },
   "file_extension": ".py",
   "mimetype": "text/x-python",
   "name": "python",
   "nbconvert_exporter": "python",
   "pygments_lexer": "ipython3",
   "version": "3.6.6"
  }
 },
 "nbformat": 4,
 "nbformat_minor": 2
}
