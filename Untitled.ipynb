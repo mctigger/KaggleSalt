{
 "cells": [
  {
   "cell_type": "code",
   "execution_count": 1,
   "metadata": {
    "collapsed": true
   },
   "outputs": [],
   "source": [
    "from ela import transformations, generator, random\n",
    "\n",
    "import datasets\n",
    "import utils\n",
    "\n",
    "transforms = generator.TransformationsGenerator([])\n",
    "\n",
    "samples = utils.get_train_samples()\n",
    "dataset = datasets.ImageDataset(samples, './data/train', transforms)"
   ]
  },
  {
   "cell_type": "code",
   "execution_count": 13,
   "metadata": {},
   "outputs": [
    {
     "name": "stderr",
     "output_type": "stream",
     "text": [
      "Sorting train samples: 100%|██████████| 4000/4000 [00:02<00:00, 1860.77it/s]\n"
     ]
    },
    {
     "data": {
      "text/plain": [
       "<matplotlib.image.AxesImage at 0x7f475c1b2d30>"
      ]
     },
     "execution_count": 13,
     "metadata": {},
     "output_type": "execute_result"
    },
    {
     "data": {
      "image/png": "[encoded data removed]",
      "text/plain": [
       "<matplotlib.figure.Figure at 0x7f475c094748>"
      ]
     },
     "metadata": {},
     "output_type": "display_data"
    }
   ],
   "source": [
    "import os\n",
    "\n",
    "import numpy as np\n",
    "from tqdm import tqdm\n",
    "from skimage.io import imread\n",
    "from matplotlib.pyplot import imshow\n",
    "%matplotlib inline\n",
    "\n",
    "import utils\n",
    "\n",
    "def read_mask(id):\n",
    "    path = os.path.join('./data/train/masks', id + '.png')\n",
    "    img = imread(path)\n",
    "    \n",
    "    return img\n",
    "\n",
    "masks_sum = []\n",
    "\n",
    "for id in tqdm(utils.get_train_samples(), desc='Sorting train samples'):\n",
    "    img = read_mask(id)\n",
    "    masks_sum.append((id, np.sum(img)))\n",
    "\n",
    "sorted_masks = sorted(masks_sum, key=lambda x: x[1])\n",
    "sorted_masks = [(id, mask_sum) for (id, mask_sum) in sorted_masks if mask_sum > 0]\n",
    "ids = [id for id, mask_sum in sorted_masks]"
   ]
  },
  {
   "cell_type": "code",
   "execution_count": 28,
   "metadata": {},
   "outputs": [
    {
     "name": "stdout",
     "output_type": "stream",
     "text": [
      "[[65535 65535 65535 ...,     0     0     0]\n",
      " [65535 65535 65535 ...,     0     0     0]\n",
      " [65535 65535 65535 ...,     0     0     0]\n",
      " ..., \n",
      " [    0     0     0 ...,     0     0     0]\n",
      " [    0     0     0 ...,     0     0     0]\n",
      " [    0     0     0 ...,     0     0     0]]\n",
      "2424795\n"
     ]
    },
    {
     "data": {
      "text/plain": [
       "<matplotlib.image.AxesImage at 0x7f47542c2630>"
      ]
     },
     "execution_count": 28,
     "metadata": {},
     "output_type": "execute_result"
    },
    {
     "data": {
      "image/png": "[encoded data removed]",
      "text/plain": [
       "<matplotlib.figure.Figure at 0x7f47543391d0>"
      ]
     },
     "metadata": {},
     "output_type": "display_data"
    }
   ],
   "source": [
    "id, mask_sum = sorted_masks[100]\n",
    "mask = read_mask(id)\n",
    "print(mask)\n",
    "print(mask_sum)\n",
    "imshow(mask, cmap='gray')"
   ]
  },
  {
   "cell_type": "code",
   "execution_count": null,
   "metadata": {
    "collapsed": true
   },
   "outputs": [],
   "source": []
  }
 ],
 "metadata": {
  "kernelspec": {
   "display_name": "Python 3",
   "language": "python",
   "name": "python3"
  },
  "language_info": {
   "codemirror_mode": {
    "name": "ipython",
    "version": 3
   },
   "file_extension": ".py",
   "mimetype": "text/x-python",
   "name": "python",
   "nbconvert_exporter": "python",
   "pygments_lexer": "ipython3",
   "version": "3.6.3"
  }
 },
 "nbformat": 4,
 "nbformat_minor": 2
}
