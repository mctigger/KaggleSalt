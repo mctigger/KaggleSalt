{
 "cells": [
  {
   "cell_type": "code",
   "execution_count": 1,
   "metadata": {},
   "outputs": [],
   "source": [
    "from ela import transformations, generator, random\n",
    "\n",
    "import datasets\n",
    "import utils\n",
    "\n",
    "transforms = generator.TransformationsGenerator([])\n",
    "\n",
    "samples = utils.get_train_samples()\n",
    "dataset = datasets.ImageDataset(samples, './data/train', transforms)"
   ]
  },
  {
   "cell_type": "code",
   "execution_count": 2,
   "metadata": {
    "scrolled": false
   },
   "outputs": [
    {
     "name": "stderr",
     "output_type": "stream",
     "text": [
      "100%|██████████| 4000/4000 [00:06<00:00, 652.19it/s]"
     ]
    },
    {
     "name": "stdout",
     "output_type": "stream",
     "text": [
      "0.2479658611900794 0.7520341388099206\n"
     ]
    },
    {
     "name": "stderr",
     "output_type": "stream",
     "text": [
      "\n"
     ]
    }
   ],
   "source": [
    "import torch\n",
    "from tqdm import tqdm\n",
    "\n",
    "positives = 0\n",
    "negatives = 0\n",
    "\n",
    "for image, mask in tqdm(dataset):\n",
    "    positives += torch.sum(mask == 1).item()\n",
    "    negatives += torch.sum(mask == 0).item()    \n",
    "\n",
    "total = positives + negatives\n",
    "print('Fraction of positives and negatives', positives / total, negatives / total)\n"
   ]
  },
  {
   "cell_type": "code",
   "execution_count": null,
   "metadata": {},
   "outputs": [],
   "source": []
  }
 ],
 "metadata": {
  "kernelspec": {
   "display_name": "Python 3",
   "language": "python",
   "name": "python3"
  },
  "language_info": {
   "codemirror_mode": {
    "name": "ipython",
    "version": 3
   },
   "file_extension": ".py",
   "mimetype": "text/x-python",
   "name": "python",
   "nbconvert_exporter": "python",
   "pygments_lexer": "ipython3",
   "version": "3.6.6"
  }
 },
 "nbformat": 4,
 "nbformat_minor": 2
}
