{
 "cells": [
  {
   "cell_type": "code",
   "execution_count": 1,
   "metadata": {
    "collapsed": true
   },
   "outputs": [],
   "source": [
    "from ela import transformations, generator, random\n",
    "\n",
    "import datasets\n",
    "import utils\n",
    "\n",
    "transforms = generator.TransformationsGenerator([])\n",
    "\n",
    "samples = utils.get_train_samples()\n",
    "dataset = datasets.ImageDataset(samples, './data/train', transforms)"
   ]
  },
  {
   "cell_type": "code",
   "execution_count": 2,
   "metadata": {
    "scrolled": false
   },
   "outputs": [
    {
     "name": "stderr",
     "output_type": "stream",
     "text": [
      "100%|██████████| 4000/4000 [00:06<00:00, 571.76it/s]"
     ]
    },
    {
     "name": "stdout",
     "output_type": "stream",
     "text": [
      "Fraction of positives and negatives 0.2479658611900794 0.7520341388099206\n"
     ]
    },
    {
     "name": "stderr",
     "output_type": "stream",
     "text": [
      "\n"
     ]
    }
   ],
   "source": [
    "import torch\n",
    "from tqdm import tqdm\n",
    "\n",
    "positives = 0\n",
    "negatives = 0\n",
    "\n",
    "for image, mask in tqdm(dataset):\n",
    "    positives += torch.sum(mask == 1).item()\n",
    "    negatives += torch.sum(mask == 0).item()    \n",
    "\n",
    "total = positives + negatives\n",
    "print('Fraction of positives and negatives', positives / total, negatives / total)\n"
   ]
  },
  {
   "cell_type": "code",
   "execution_count": 3,
   "metadata": {},
   "outputs": [
    {
     "name": "stderr",
     "output_type": "stream",
     "text": [
      "100%|██████████| 4000/4000 [00:06<00:00, 628.99it/s]"
     ]
    },
    {
     "name": "stdout",
     "output_type": "stream",
     "text": [
      "max_val 10200\n"
     ]
    },
    {
     "name": "stderr",
     "output_type": "stream",
     "text": [
      "\n"
     ]
    }
   ],
   "source": [
    "import torch\n",
    "from tqdm import tqdm\n",
    "\n",
    "max_val = 0\n",
    "\n",
    "for image, mask in tqdm(dataset):\n",
    "    max_val = max(torch.sum(mask == 1).item(), max_val)\n",
    "\n",
    "print('max_val', max_val)\n"
   ]
  },
  {
   "cell_type": "code",
   "execution_count": null,
   "metadata": {
    "collapsed": true
   },
   "outputs": [],
   "source": [
    "import torch\n",
    "from tqdm import tqdm\n",
    "from math import sqrt\n",
    "\n",
    "std = 0\n",
    "\n",
    "for image, mask in tqdm(dataset):\n",
    "    std += (torch.sum(mask == 1).item() - mean) * (torch.sum(mask == 1).item() - mean)\n",
    "    \n",
    "std = sqrt(std / 4000)\n",
    "\n",
    "print('Aux std', std)\n"
   ]
  }
 ],
 "metadata": {
  "kernelspec": {
   "display_name": "Python 3",
   "language": "python",
   "name": "python3"
  },
  "language_info": {
   "codemirror_mode": {
    "name": "ipython",
    "version": 3
   },
   "file_extension": ".py",
   "mimetype": "text/x-python",
   "name": "python",
   "nbconvert_exporter": "python",
   "pygments_lexer": "ipython3",
   "version": "3.6.3"
  }
 },
 "nbformat": 4,
 "nbformat_minor": 2
}
