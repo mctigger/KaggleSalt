{
 "cells": [
  {
   "cell_type": "code",
   "execution_count": 1,
   "metadata": {},
   "outputs": [
    {
     "name": "stderr",
     "output_type": "stream",
     "text": [
      "100%|██████████| 4000/4000 [00:06<00:00, 621.70it/s]                                                \n",
      "                                                                                                              \r"
     ]
    }
   ],
   "source": [
    "import pickle\n",
    "\n",
    "import numpy as np\n",
    "from tqdm import tqdm\n",
    "import torch\n",
    "from scipy.special import expit\n",
    "\n",
    "from ela import generator\n",
    "\n",
    "import utils\n",
    "import metrics\n",
    "import datasets\n",
    "\n",
    "# LIST OF EXPERIMENTS TO INCLUDE \n",
    "experiments = [\n",
    "    'nopoolrefinenet_dpn92',\n",
    "]\n",
    "\n",
    "test_predictions_experiment = []\n",
    "\n",
    "for name in experiments:\n",
    "    test_predictions = utils.TestPredictions('{}'.format(name), mode='val')\n",
    "    test_predictions_experiment.append(test_predictions.load_raw())\n",
    "\n",
    "samples_train = utils.get_train_samples()\n",
    "transforms = generator.TransformationsGenerator([])\n",
    "dataset = datasets.AnalysisDataset(samples_train, './data/train', transforms, utils.TestPredictions('{}'.format(name), mode='val').load())\n",
    "\n",
    "train = {}\n",
    "for id in tqdm(samples_train):\n",
    "    _, mask, _ = dataset.get_by_id(id)\n",
    "    test_prediction = np.concatenate([predictions[id] for predictions in test_predictions_experiment], axis=0)\n",
    "    prediction = np.mean(expit(test_prediction), axis=0)\n",
    "\n",
    "    train[id] = (prediction, mask)\n",
    "\n",
    "\n",
    "def strip_nan(e):\n",
    "    if e != e:\n",
    "        return None\n",
    "\n",
    "    return e[:-4]\n",
    "\n",
    "\n",
    "# PUT CORRECT PATH TO NEIGHBORS FILE HERE\n",
    "with open('./data/8_neighbours_mosaics.pkl', \"rb\") as f:\n",
    "    neighbors = pickle.load(f)\n",
    "    neighbors = {k[:-4]: [strip_nan(e) for e in v] for k, v in neighbors.items()}\n",
    "\n",
    "samples_test = utils.get_test_samples()\n",
    "predictions_test = utils.TestPredictions('{}-split_{}'.format(name, 0)).load()"
   ]
  },
  {
   "cell_type": "code",
   "execution_count": 2,
   "metadata": {
    "scrolled": false
   },
   "outputs": [
    {
     "name": "stderr",
     "output_type": "stream",
     "text": [
      "100%|██████████| 4000/4000 [00:00<00:00, 8829.13it/s]\n"
     ]
    },
    {
     "name": "stdout",
     "output_type": "stream",
     "text": [
      "mAP tensor(0.8635, device='cuda:0')\n"
     ]
    }
   ],
   "source": [
    "from os.path import join\n",
    "from skimage.io import imread\n",
    "from skimage import img_as_float\n",
    "\n",
    "def get_prediction(id):\n",
    "    \"\"\"\n",
    "    Depdening on the given id either returns training ground-truth mask or test prediction\n",
    "    \"\"\"\n",
    "    if id in samples_train:\n",
    "        prediction = img_as_float(imread(join('./data/train', 'masks', id) + '.png'))\n",
    "\n",
    "    if id in samples_test:\n",
    "        prediction = predictions_test[id]\n",
    "        \n",
    "    return prediction\n",
    "\n",
    "train_postprocessed = {id: (prediction.copy(), mask.copy()) for id, (prediction, mask) in train.items()}\n",
    "for sample in tqdm(samples_train):\n",
    "    if sample in neighbors:\n",
    "        sample_neighbors = neighbors[sample]\n",
    "        prediction_sample, mask_sample = train_postprocessed[sample]\n",
    "        \n",
    "        # HERE IS SOME SAMPLE CODE. PUT YOUR POST_PROCESSING HERE\n",
    "        n_top, n_left, n_right, n_bottom =  sample_neighbors[1],  sample_neighbors[3],  sample_neighbors[4],  sample_neighbors[6]\n",
    "        \n",
    "        if n_top and n_left and n_right and n_bottom:\n",
    "            top = get_prediction(n_top)\n",
    "            left = get_prediction(n_left)\n",
    "            right = get_prediction(n_right)\n",
    "            bottom = get_prediction(n_bottom)\n",
    "            \n",
    "            t = 0.1\n",
    "            if np.mean(np.abs(top[-1, :] - bottom[0, :]), axis=None) < t:\n",
    "                prediction_sample[:, :] = top[-1, :]\n",
    "\n",
    "            train_postprocessed[sample] = prediction_sample, mask_sample\n",
    "            \n",
    "        # END SAMPLE CODE\n",
    "\n",
    "\n",
    "predictions = [prediction for id, (prediction, mask) in train_postprocessed.items()]\n",
    "predictions = np.stack(predictions, axis=0)\n",
    "masks = [mask for id, (prediction, mask) in train_postprocessed.items()]\n",
    "masks = np.stack(masks, axis=0)\n",
    "\n",
    "predictions = (predictions > 0.5).astype(np.float32)\n",
    "\n",
    "map = metrics.mAP(torch.FloatTensor(predictions).cuda(), torch.FloatTensor(masks).cuda())\n",
    "\n",
    "print('mAP', map)\n"
   ]
  },
  {
   "cell_type": "raw",
   "metadata": {},
   "source": []
  },
  {
   "cell_type": "code",
   "execution_count": null,
   "metadata": {},
   "outputs": [],
   "source": []
  }
 ],
 "metadata": {
  "kernelspec": {
   "display_name": "Python [conda env:KaggleSalt]",
   "language": "python",
   "name": "conda-env-KaggleSalt-py"
  },
  "language_info": {
   "codemirror_mode": {
    "name": "ipython",
    "version": 3
   },
   "file_extension": ".py",
   "mimetype": "text/x-python",
   "name": "python",
   "nbconvert_exporter": "python",
   "pygments_lexer": "ipython3",
   "version": "3.6.6"
  }
 },
 "nbformat": 4,
 "nbformat_minor": 2
}
