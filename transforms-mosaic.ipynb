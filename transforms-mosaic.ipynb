{
 "cells": [
  {
   "cell_type": "code",
   "execution_count": 1,
   "metadata": {
    "scrolled": false
   },
   "outputs": [
    {
     "ename": "ImportError",
     "evalue": "cannot import name 'transformations'",
     "output_type": "error",
     "traceback": [
      "\u001b[0;31m---------------------------------------------------------------------------\u001b[0m",
      "\u001b[0;31mImportError\u001b[0m                               Traceback (most recent call last)",
      "\u001b[0;32m<ipython-input-1-138d43594d83>\u001b[0m in \u001b[0;36m<module>\u001b[0;34m()\u001b[0m\n\u001b[1;32m      4\u001b[0m \u001b[0mget_ipython\u001b[0m\u001b[0;34m(\u001b[0m\u001b[0;34m)\u001b[0m\u001b[0;34m.\u001b[0m\u001b[0mrun_line_magic\u001b[0m\u001b[0;34m(\u001b[0m\u001b[0;34m'matplotlib'\u001b[0m\u001b[0;34m,\u001b[0m \u001b[0;34m'inline'\u001b[0m\u001b[0;34m)\u001b[0m\u001b[0;34m\u001b[0m\u001b[0m\n\u001b[1;32m      5\u001b[0m \u001b[0;34m\u001b[0m\u001b[0m\n\u001b[0;32m----> 6\u001b[0;31m \u001b[0;32mfrom\u001b[0m \u001b[0mela\u001b[0m \u001b[0;32mimport\u001b[0m \u001b[0mtransformations\u001b[0m\u001b[0;34m,\u001b[0m \u001b[0mgenerator\u001b[0m\u001b[0;34m,\u001b[0m \u001b[0mrandom\u001b[0m\u001b[0;34m\u001b[0m\u001b[0m\n\u001b[0m\u001b[1;32m      7\u001b[0m \u001b[0;34m\u001b[0m\u001b[0m\n\u001b[1;32m      8\u001b[0m \u001b[0;32mimport\u001b[0m \u001b[0mdatasets\u001b[0m\u001b[0;34m\u001b[0m\u001b[0m\n",
      "\u001b[0;31mImportError\u001b[0m: cannot import name 'transformations'"
     ]
    }
   ],
   "source": [
    "import numpy as np\n",
    "import torch\n",
    "import matplotlib.pyplot as plt\n",
    "%matplotlib inline\n",
    "\n",
    "from ela import transformations, generator, random\n",
    "\n",
    "import datasets\n",
    "import utils\n",
    "\n",
    "\n",
    "\n",
    "transforms_train = generator.TransformationsGenerator([\n",
    "    \n",
    "])\n",
    "\n",
    "samples = utils.get_mosaic_samples()\n",
    "dataset = datasets.ImageDataset(samples, './data/mosaic_pairs', transforms_train)\n",
    "\n",
    "\n",
    "transforms = generator.TransformationsGenerator([\n",
    "    transformations.Padding(((13, 14), (13, 14), (0, 0)))\n",
    "])\n",
    "\n",
    "transforms_image = generator.TransformationsGenerator([\n",
    "    random.RandomColorPerturbation(std=1)\n",
    "])\n",
    "\n",
    "\n",
    "rows = 5\n",
    "cols = 4\n",
    "fig, ax = plt.subplots(rows, cols, figsize=(cols * 3, rows * 3))\n",
    "\n",
    "for i in range(rows):\n",
    "    img, mask = dataset[5]\n",
    "\n",
    "    img = img.permute(1, 2, 0).numpy()\n",
    "    mask = mask.squeeze().numpy()\n",
    "    t = next(transforms)\n",
    "    t_image = next(transforms_image)\n",
    "\n",
    "    ax[i][0].imshow(img)\n",
    "    ax[i][1].imshow(mask)\n",
    "    ax[i][2].imshow(t_image(t(img)))\n",
    "    ax[i][3].imshow(t(mask))"
   ]
  },
  {
   "cell_type": "code",
   "execution_count": null,
   "metadata": {},
   "outputs": [],
   "source": []
  },
  {
   "cell_type": "code",
   "execution_count": null,
   "metadata": {},
   "outputs": [],
   "source": []
  }
 ],
 "metadata": {
  "kernelspec": {
   "display_name": "Python 3",
   "language": "python",
   "name": "python3"
  },
  "language_info": {
   "codemirror_mode": {
    "name": "ipython",
    "version": 3
   },
   "file_extension": ".py",
   "mimetype": "text/x-python",
   "name": "python",
   "nbconvert_exporter": "python",
   "pygments_lexer": "ipython3",
   "version": "3.6.6"
  }
 },
 "nbformat": 4,
 "nbformat_minor": 2
}
