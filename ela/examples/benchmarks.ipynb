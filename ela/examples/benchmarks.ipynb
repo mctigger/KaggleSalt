{
 "cells": [
  {
   "cell_type": "code",
   "execution_count": 1,
   "metadata": {},
   "outputs": [],
   "source": [
    "import skimage.data\n",
    "import matplotlib.pyplot as plt\n",
    "%matplotlib inline\n",
    "from matplotlib import animation, rc\n",
    "from IPython.display import HTML\n",
    "from timeit import default_timer as timer\n",
    "\n",
    "from torchvision.transforms import ToPILImage\n",
    "from ela import generator\n",
    "\n",
    "img = skimage.data.astronaut()\n",
    "\n",
    "def benchmark_ela(ts_train):\n",
    "\n",
    "\n",
    "    tg_train = generator.TransformationsGenerator(ts_train)\n",
    "\n",
    "    start = timer()\n",
    "    for i in range(1000):\n",
    "        transform = next(tg_train)\n",
    "        transform(img)\n",
    "\n",
    "    end = timer()\n",
    "    print('ela', end - start)  \n",
    "\n",
    "\n",
    "def benchmark_torchvision(transform):\n",
    "    pil_image = ToPILImage()(img)\n",
    "    \n",
    "    start = timer()\n",
    "    for i in range(100):\n",
    "        transform(pil_image)\n",
    "\n",
    "    end = timer()\n",
    "    print('torchvision', end - start)  \n"
   ]
  },
  {
   "cell_type": "code",
   "execution_count": 2,
   "metadata": {},
   "outputs": [
    {
     "name": "stdout",
     "output_type": "stream",
     "text": [
      "ela 20.617615250999734\n",
      "torchvision 0.27795280200007255\n"
     ]
    }
   ],
   "source": [
    "from ela import random\n",
    "from torchvision.transforms import RandomResizedCrop\n",
    "\n",
    "benchmark_ela([random.RandomResizedCrop(crop_size=448, min_area=0.08)])\n",
    "benchmark_torchvision(RandomResizedCrop(448))"
   ]
  },
  {
   "cell_type": "code",
   "execution_count": 3,
   "metadata": {},
   "outputs": [
    {
     "name": "stdout",
     "output_type": "stream",
     "text": [
      "ela 0.015773899000123492\n",
      "torchvision 0.007852341999750934\n"
     ]
    }
   ],
   "source": [
    "from ela import random\n",
    "from torchvision.transforms import RandomCrop\n",
    "\n",
    "benchmark_ela([random.RandomCrop(crop_size=448)])\n",
    "benchmark_torchvision(RandomCrop(448))"
   ]
  },
  {
   "cell_type": "code",
   "execution_count": 4,
   "metadata": {},
   "outputs": [
    {
     "name": "stdout",
     "output_type": "stream",
     "text": [
      "ela 18.190906132000237\n",
      "torchvision 0.10169371900155966\n"
     ]
    }
   ],
   "source": [
    "from ela import transformations\n",
    "from torchvision.transforms import Resize\n",
    "\n",
    "benchmark_ela([transformations.Resize((100, 100))])\n",
    "benchmark_torchvision(Resize((100, 100)))"
   ]
  },
  {
   "cell_type": "code",
   "execution_count": 11,
   "metadata": {},
   "outputs": [
    {
     "name": "stdout",
     "output_type": "stream",
     "text": [
      "iterations/s 33.1847194564995\n"
     ]
    }
   ],
   "source": [
    "from ela import random\n",
    "\n",
    "tf = [\n",
    "    random.RandomDistortion(5, 5, 0.1, 0.1, order=1)\n",
    "]\n",
    "\n",
    "tg = generator.TransformationsGenerator(tf)\n",
    "\n",
    "img = transformations.Resize((128, 128))(img)\n",
    "\n",
    "start = timer()\n",
    "iterations = 500\n",
    "for i in range(iterations):\n",
    "    t = next(tg)\n",
    "    t(img / 255)\n",
    "    \n",
    "end = timer()\n",
    "print('iterations/s', iterations / (end - start))"
   ]
  },
  {
   "cell_type": "code",
   "execution_count": null,
   "metadata": {},
   "outputs": [],
   "source": []
  }
 ],
 "metadata": {
  "kernelspec": {
   "display_name": "Python 3",
   "language": "python",
   "name": "python3"
  },
  "language_info": {
   "codemirror_mode": {
    "name": "ipython",
    "version": 3
   },
   "file_extension": ".py",
   "mimetype": "text/x-python",
   "name": "python",
   "nbconvert_exporter": "python",
   "pygments_lexer": "ipython3",
   "version": "3.6.6"
  }
 },
 "nbformat": 4,
 "nbformat_minor": 2
}
